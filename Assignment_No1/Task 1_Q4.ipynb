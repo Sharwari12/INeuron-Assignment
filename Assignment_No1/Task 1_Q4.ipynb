{
 "cells": [
  {
   "cell_type": "markdown",
   "metadata": {},
   "source": [
    "Q. Write a Python program to find the volume of a sphere with diameter 12 cm.\n",
    "Formula: V=4/3 * π * r3"
   ]
  },
  {
   "cell_type": "code",
   "execution_count": 1,
   "metadata": {},
   "outputs": [
    {
     "name": "stdout",
     "output_type": "stream",
     "text": [
      "Volume of sphere=  904.3199999999999\n",
      "Volume of sphere= 904.3199999999999 cm3\n"
     ]
    }
   ],
   "source": [
    "pi=3.14\n",
    "d=12\n",
    "r=d/2\n",
    "vol_sphere=(4/3)*(pi*r**3)\n",
    "print(\"Volume of sphere= \", vol_sphere)\n",
    "\n",
    "#Or we can also write print statement as\n",
    "\n",
    "print(\"Volume of sphere= \"+str(vol_sphere)+\" cm3\")"
   ]
  }
 ],
 "metadata": {
  "kernelspec": {
   "display_name": "Python 3",
   "language": "python",
   "name": "python3"
  },
  "language_info": {
   "codemirror_mode": {
    "name": "ipython",
    "version": 3
   },
   "file_extension": ".py",
   "mimetype": "text/x-python",
   "name": "python",
   "nbconvert_exporter": "python",
   "pygments_lexer": "ipython3",
   "version": "3.7.6"
  }
 },
 "nbformat": 4,
 "nbformat_minor": 4
}
