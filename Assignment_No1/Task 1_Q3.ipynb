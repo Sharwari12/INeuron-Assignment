{
 "cells": [
  {
   "cell_type": "code",
   "execution_count": 1,
   "metadata": {},
   "outputs": [
    {
     "name": "stdout",
     "output_type": "stream",
     "text": [
      "Enter your first name: Sharwari\n",
      "Enter your last name: Chavan\n",
      "irawrahS navahC\n"
     ]
    }
   ],
   "source": [
    "# 1st possibility\n",
    "Fname=input(\"Enter your first name: \")\n",
    "Lname=input(\"Enter your last name: \")\n",
    "print(Fname[::-1]+\" \"+Lname[::-1])"
   ]
  },
  {
   "cell_type": "code",
   "execution_count": 2,
   "metadata": {},
   "outputs": [
    {
     "name": "stdout",
     "output_type": "stream",
     "text": [
      "Enter your first name: Sharwari\n",
      "Enter your last name: Chavan\n"
     ]
    },
    {
     "data": {
      "text/plain": [
       "'irawrahS navahC'"
      ]
     },
     "execution_count": 2,
     "metadata": {},
     "output_type": "execute_result"
    }
   ],
   "source": [
    "# 2nd possibility\n",
    "Fname=input(\"Enter your first name: \")\n",
    "Lname=input(\"Enter your last name: \")\n",
    "Full_name=Fname[::-1]+\" \"+Lname[::-1]\n",
    "Full_name"
   ]
  }
 ],
 "metadata": {
  "kernelspec": {
   "display_name": "Python 3",
   "language": "python",
   "name": "python3"
  },
  "language_info": {
   "codemirror_mode": {
    "name": "ipython",
    "version": 3
   },
   "file_extension": ".py",
   "mimetype": "text/x-python",
   "name": "python",
   "nbconvert_exporter": "python",
   "pygments_lexer": "ipython3",
   "version": "3.7.6"
  }
 },
 "nbformat": 4,
 "nbformat_minor": 4
}
