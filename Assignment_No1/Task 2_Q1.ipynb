{
 "cells": [
  {
   "cell_type": "markdown",
   "metadata": {},
   "source": [
    "Q. Write a program which accepts a sequence of comma-separated numbers from console and generate a list.\n"
   ]
  },
  {
   "cell_type": "code",
   "execution_count": 1,
   "metadata": {},
   "outputs": [
    {
     "name": "stdout",
     "output_type": "stream",
     "text": [
      "Enter sequence of comma separated numbers: 8,95,36,45,7,68\n",
      "Input Sequence:  8,95,36,45,7,68\n",
      "List1:  ['8', '95', '36', '45', '7', '68']\n",
      "Output:  [8, 95, 36, 45, 7, 68]\n",
      "<class 'list'>\n"
     ]
    }
   ],
   "source": [
    "num_seq=input(\"Enter sequence of comma separated numbers: \")\n",
    "print(\"Input Sequence: \", num_seq)\n",
    "list1=num_seq.split(',')\n",
    "print(\"List1: \",list1)\n",
    "Final_list=[]\n",
    "for i in list1:\n",
    "    Final_list.append(int(i))\n",
    "print(\"Output: \", Final_list)\n",
    "print(type(Final_list))"
   ]
  }
 ],
 "metadata": {
  "kernelspec": {
   "display_name": "Python 3",
   "language": "python",
   "name": "python3"
  },
  "language_info": {
   "codemirror_mode": {
    "name": "ipython",
    "version": 3
   },
   "file_extension": ".py",
   "mimetype": "text/x-python",
   "name": "python",
   "nbconvert_exporter": "python",
   "pygments_lexer": "ipython3",
   "version": "3.7.6"
  }
 },
 "nbformat": 4,
 "nbformat_minor": 4
}
