{
 "cells": [
  {
   "cell_type": "markdown",
   "metadata": {},
   "source": [
    "1. Write a function so that the columns of the output matrix are powers of the input vector.  \n",
    "The order of the powers is determined by the increasing boolean argument. Specifically, when increasing is False, the i-th output column is the input vector raised element-wise to the power of N - i - 1.  \n",
    " "
   ]
  },
  {
   "cell_type": "code",
   "execution_count": 16,
   "metadata": {},
   "outputs": [
    {
     "name": "stdout",
     "output_type": "stream",
     "text": [
      "Enter sequence of comma separated numbers: 1,3,5,7,9\n",
      "Input Sequence:  1,3,5,7,9\n",
      "List1:  ['1', '3', '5', '7', '9']\n",
      "Output:  [1, 3, 5, 7, 9]\n",
      "5\n",
      "Enter the number of columns: 4\n",
      "The input array i s: [1, 3, 5, 7, 9]\n",
      "Column numbers : 4\n",
      "Matrix : \n",
      " [[  1   1   1   1]\n",
      " [  1   3   9  27]\n",
      " [  1   5  25 125]\n",
      " [  1   7  49 343]\n",
      " [  1   9  81 729]]\n",
      "Reverse matrix :\n",
      " [[  1   1   1   1]\n",
      " [ 27   9   3   1]\n",
      " [125  25   5   1]\n",
      " [343  49   7   1]\n",
      " [729  81   9   1]]\n"
     ]
    }
   ],
   "source": [
    "num_seq=input(\"Enter sequence of comma separated numbers: \")\n",
    "print(\"Input Sequence: \", num_seq)\n",
    "list1=num_seq.split(',')\n",
    "print(\"List1: \",list1)\n",
    "ipvec=[]\n",
    "for i in list1:\n",
    "    ipvec.append(int(i))\n",
    "print(\"Output: \", ipvec)\n",
    "\n",
    "print(len(ipvec))\n",
    "colno=int(input(\"Enter the number of columns: \"))\n",
    "   \n",
    "def matrix(ipvec, n, increasing=True):\n",
    "    if increasing:\n",
    "        op_matx=[i**(n-1-j) for i in ipvec for j in range(n)]\n",
    "    elif not increasing:\n",
    "        op_matx=[i**j for i in ipvec for j in range(n)]\n",
    "    return op_matx\n",
    "\n",
    "matx1=matrix(ipvec,colno,False)\n",
    "matx3=np.reshape(matx1,(len(ipvec),colno))\n",
    "matx2=matrix(ipvec,colno,True)\n",
    "matx4=np.reshape(matx2,(len(ipvec),colno))\n",
    "\n",
    "print(\"The input array i s:\",ipvec)\n",
    "print(\"Column numbers :\",colno)\n",
    "print(\"Matrix : \\n\",matx3)\n",
    "print(\"Reverse matrix :\\n\",matx4)\n"
   ]
  },
  {
   "cell_type": "code",
   "execution_count": null,
   "metadata": {},
   "outputs": [],
   "source": []
  }
 ],
 "metadata": {
  "kernelspec": {
   "display_name": "Python 3",
   "language": "python",
   "name": "python3"
  },
  "language_info": {
   "codemirror_mode": {
    "name": "ipython",
    "version": 3
   },
   "file_extension": ".py",
   "mimetype": "text/x-python",
   "name": "python",
   "nbconvert_exporter": "python",
   "pygments_lexer": "ipython3",
   "version": "3.7.6"
  }
 },
 "nbformat": 4,
 "nbformat_minor": 4
}
