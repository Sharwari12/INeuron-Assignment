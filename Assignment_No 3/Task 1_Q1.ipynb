{
 "cells": [
  {
   "cell_type": "markdown",
   "metadata": {},
   "source": [
    "1.Write a function to compute 5/0 and use try/except to catch the exceptions. "
   ]
  },
  {
   "cell_type": "code",
   "execution_count": 5,
   "metadata": {
    "scrolled": true
   },
   "outputs": [
    {
     "name": "stdout",
     "output_type": "stream",
     "text": [
      "Dividing by zero buddy, not a valid number\n"
     ]
    }
   ],
   "source": [
    "def division():\n",
    "    return 5/0\n",
    "try:\n",
    "    division()\n",
    "except:\n",
    "    print(\"Dividing by zero buddy, not a valid number\")\n",
    "else:\n",
    "    print(\"You have entered a valid number\")"
   ]
  },
  {
   "cell_type": "code",
   "execution_count": 4,
   "metadata": {},
   "outputs": [
    {
     "name": "stdout",
     "output_type": "stream",
     "text": [
      "Enter the number: 0\n",
      "Dividing by zero buddy\n"
     ]
    }
   ],
   "source": [
    "ip=int(input(\"Enter the number: \"))\n",
    "\n",
    "def is_divisible():\n",
    "    return(5/ip)\n",
    "try:\n",
    "    is_divisible()\n",
    "except:\n",
    "    print(\"Dividing by zero buddy, not a valid number\")\n",
    "else:\n",
    "    print(\"You have entered a valid number\")"
   ]
  },
  {
   "cell_type": "code",
   "execution_count": null,
   "metadata": {},
   "outputs": [],
   "source": []
  }
 ],
 "metadata": {
  "kernelspec": {
   "display_name": "Python 3",
   "language": "python",
   "name": "python3"
  },
  "language_info": {
   "codemirror_mode": {
    "name": "ipython",
    "version": 3
   },
   "file_extension": ".py",
   "mimetype": "text/x-python",
   "name": "python",
   "nbconvert_exporter": "python",
   "pygments_lexer": "ipython3",
   "version": "3.7.6"
  }
 },
 "nbformat": 4,
 "nbformat_minor": 4
}
