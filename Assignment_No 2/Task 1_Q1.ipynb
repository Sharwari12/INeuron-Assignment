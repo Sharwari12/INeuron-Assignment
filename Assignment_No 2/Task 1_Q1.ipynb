{
 "cells": [
  {
   "cell_type": "markdown",
   "metadata": {},
   "source": [
    "1.1  \n",
    "Write a Python Program to implement your own myreduce() function which works exactly like Python's built-in function reduce() "
   ]
  },
  {
   "cell_type": "code",
   "execution_count": 51,
   "metadata": {},
   "outputs": [
    {
     "name": "stdout",
     "output_type": "stream",
     "text": [
      "Output for summation function =  80\n",
      "Output for subtraction function =  -64\n",
      "Output for multiplication function =  37600\n",
      "Output for division function =  0.001702127659574468\n"
     ]
    }
   ],
   "source": [
    "list1=[8,5,20,47]\n",
    "\n",
    "def summation(n1,n2):\n",
    "    return(n1+n2)\n",
    "\n",
    "def subtraction(n1,n2):\n",
    "    return(n1-n2)\n",
    "\n",
    "def multiplication(n1,n2):\n",
    "    return(n1*n2)\n",
    "\n",
    "def division(n1,n2):\n",
    "    return(n1/n2)\n",
    "\n",
    "def myreduce(function,iterator):\n",
    "    x1=iterator[0]\n",
    "    for i in iterator[1:]:\n",
    "        x1=function(x1,i)\n",
    "    return x1\n",
    "\n",
    "# WE CAN USE ANY OF THE ABOVE FUNCTION\n",
    "print(\"Output for summation function = \",myreduce(summation,list1))\n",
    "print(\"Output for subtraction function = \",myreduce(subtraction,list1))\n",
    "print(\"Output for multiplication function = \",myreduce(multiplication,list1))\n",
    "print(\"Output for division function = \",myreduce(division,list1))"
   ]
  },
  {
   "cell_type": "markdown",
   "metadata": {},
   "source": [
    "1.2   \n",
    "Write a Python program to implement your own myfilter() function which works exactly like Python's built-in function filter() "
   ]
  },
  {
   "cell_type": "code",
   "execution_count": 59,
   "metadata": {},
   "outputs": [
    {
     "name": "stdout",
     "output_type": "stream",
     "text": [
      "Output of odd function is =  [9, 7, 25]\n",
      "Output of even function is =  [8, 4, 16, 42]\n"
     ]
    }
   ],
   "source": [
    "#List2=[8,9,7,4,16,25,42]\n",
    "\n",
    "def is_odd(number):\n",
    "    if number%2!=0:\n",
    "        return True\n",
    "    else:\n",
    "        return False\n",
    "    \n",
    "def is_even(number):\n",
    "    if number%2==0:\n",
    "        return True\n",
    "    else:\n",
    "        return False\n",
    "\n",
    "def myfilter(function,iterator):\n",
    "    empty_list=[]\n",
    "    for i in iterator:\n",
    "        if function(i):\n",
    "            empty_list.append(i)\n",
    "    return empty_list\n",
    "\n",
    "print(\"Output of odd function is = \", myfilter(is_odd,List2))\n",
    "print(\"Output of even function is = \", myfilter(is_even,List2))"
   ]
  }
 ],
 "metadata": {
  "kernelspec": {
   "display_name": "Python 3",
   "language": "python",
   "name": "python3"
  },
  "language_info": {
   "codemirror_mode": {
    "name": "ipython",
    "version": 3
   },
   "file_extension": ".py",
   "mimetype": "text/x-python",
   "name": "python",
   "nbconvert_exporter": "python",
   "pygments_lexer": "ipython3",
   "version": "3.7.6"
  }
 },
 "nbformat": 4,
 "nbformat_minor": 4
}
