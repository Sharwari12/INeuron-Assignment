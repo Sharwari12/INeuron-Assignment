{
 "cells": [
  {
   "cell_type": "markdown",
   "metadata": {},
   "source": [
    "2.1 Write a Python program using function concept that maps  list of words into a list of integers representing the lengths of the corresponding words.\n",
    "Hint: If a list [ ab,cde,erty] is passed on to the python function output should come as [2,3,4] \n",
    " Here 2,3 and 4 are the lengths of the words in the list."
   ]
  },
  {
   "cell_type": "code",
   "execution_count": 35,
   "metadata": {},
   "outputs": [
    {
     "name": "stdout",
     "output_type": "stream",
     "text": [
      "Enter list of words = In this pandemic we all are together\n",
      "['In', 'this', 'pandemic', 'we', 'all', 'are', 'together']\n",
      "Length of each word is =  [2, 4, 8, 2, 3, 3, 8]\n"
     ]
    }
   ],
   "source": [
    "def wordlength(word_list):\n",
    "    l=[]\n",
    "    for i in word_list:\n",
    "        l.append(len(i))\n",
    "    return l\n",
    "\n",
    "input_list=input(\"Enter list of words = \")\n",
    "split_list=input_list.split(\" \")\n",
    "list1=list(split_list)\n",
    "print(list1)\n",
    "\n",
    "print(\"Length of each word is = \",wordlength(list1))\n",
    "    "
   ]
  },
  {
   "cell_type": "markdown",
   "metadata": {},
   "source": [
    "2.2 Write a Python function which takes a character (i.e. a string of length 1) and returns True if it is a vowel, False otherwise. "
   ]
  },
  {
   "cell_type": "code",
   "execution_count": 6,
   "metadata": {},
   "outputs": [
    {
     "name": "stdout",
     "output_type": "stream",
     "text": [
      "Enter a character = z\n",
      "False\n"
     ]
    }
   ],
   "source": [
    "vowel=(\"a\",\"e\",\"i\",\"o\",\"u\")\n",
    "\n",
    "def is_vowel(character):\n",
    "        if character in vowel:\n",
    "            return True\n",
    "        else:\n",
    "            return False\n",
    "        \n",
    "input_ch=input(\"Enter a character = \")   \n",
    "print(is_vowel(input_ch))\n",
    "        "
   ]
  }
 ],
 "metadata": {
  "kernelspec": {
   "display_name": "Python 3",
   "language": "python",
   "name": "python3"
  }
 },
 "nbformat": 4,
 "nbformat_minor": 4
}
