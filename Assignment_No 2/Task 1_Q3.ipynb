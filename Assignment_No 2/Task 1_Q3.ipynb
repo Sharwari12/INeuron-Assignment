{
 "cells": [
  {
   "cell_type": "markdown",
   "metadata": {},
   "source": [
    "3 Implement a function longestWord() that takes a list of words and returns the longest one. "
   ]
  },
  {
   "cell_type": "code",
   "execution_count": 7,
   "metadata": {},
   "outputs": [
    {
     "name": "stdout",
     "output_type": "stream",
     "text": [
      "Enter list of words = Find the longest word from given statement\n",
      "The longest word is =  statement\n"
     ]
    }
   ],
   "source": [
    "def longestWord(word_list):\n",
    "    l=0\n",
    "    for i in word_list:\n",
    "        if len(i)>l:\n",
    "            l=len(i)\n",
    "            word=i\n",
    "    return word\n",
    "    \n",
    "input_list=input(\"Enter list of words = \")\n",
    "split_list=input_list.split(\" \")\n",
    "\n",
    "print(\"The longest word is = \",longestWord(split_list))\n",
    "    "
   ]
  }
 ],
 "metadata": {
  "kernelspec": {
   "display_name": "Python 3",
   "language": "python",
   "name": "python3"
  },
  "language_info": {
   "codemirror_mode": {
    "name": "ipython",
    "version": 3
   },
   "file_extension": ".py",
   "mimetype": "text/x-python",
   "name": "python",
   "nbconvert_exporter": "python",
   "pygments_lexer": "ipython3",
   "version": "3.7.6"
  }
 },
 "nbformat": 4,
 "nbformat_minor": 4
}
