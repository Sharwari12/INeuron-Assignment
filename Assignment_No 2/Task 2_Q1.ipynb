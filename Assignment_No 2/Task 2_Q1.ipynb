{
 "cells": [
  {
   "cell_type": "markdown",
   "metadata": {},
   "source": [
    "1.1 Write a Python Program(with class concepts) to find the area of the triangle using the below formula. \n",
    " \n",
    "area = (s*(s-a)*(s-b)*(s-c)) ** 0.5 \n",
    " \n",
    "Function to take the length of the sides of triangle from user should be defined in the parent class and function to calculate the area should be defined in subclass. "
   ]
  },
  {
   "cell_type": "code",
   "execution_count": 25,
   "metadata": {},
   "outputs": [
    {
     "name": "stdout",
     "output_type": "stream",
     "text": [
      "Area of triangle =  7.937253933193772\n"
     ]
    }
   ],
   "source": [
    "class Sides:\n",
    "    def __init__(self, no_of_sides):\n",
    "        self.number_of_sides=no_of_sides\n",
    "    \n",
    "class Triangle(Sides):\n",
    "    def __init__(self, side_len):\n",
    "        Sides.__init__(self, 3)\n",
    "        self.len_side = side_len\n",
    "\n",
    "    def get_area(self):\n",
    "        a, b, c = self.len_side\n",
    "        s = (a + b + c) / 2\n",
    "        return (s*(s-a)*(s-b)*(s-c)) ** 0.5\n",
    "\n",
    "p=Sides(3)\n",
    "tri = Triangle([4,4,6])\n",
    "print(\"Area of triangle = \",tri.get_area())"
   ]
  },
  {
   "cell_type": "markdown",
   "metadata": {},
   "source": [
    "1.2 Write a function filter_long_words() that takes a list of words and an integer n and returns the list of words that are longer than n. "
   ]
  },
  {
   "cell_type": "code",
   "execution_count": 10,
   "metadata": {},
   "outputs": [
    {
     "name": "stdout",
     "output_type": "stream",
     "text": [
      "Enter list of words:We all are together in this pandemic\n",
      "['We', 'all', 'are', 'together', 'in', 'this', 'pandemic']\n",
      "Enter minimum length:3\n",
      "Words longer than word length: ['together', 'this', 'pandemic']\n"
     ]
    }
   ],
   "source": [
    "def filter_long_words(word_list,length):\n",
    "    words=[]\n",
    "    for i in word_list:\n",
    "        if(len(i)>length):\n",
    "            words.append(i)\n",
    "    return words\n",
    "\n",
    "input_list=input(\"Enter list of words:\")\n",
    "split_input=input_list.split(\" \")\n",
    "print(split_input)\n",
    "word_length=int(input(\"Enter minimum length:\"))\n",
    "final_list=filter_long_words(split_input,word_length)\n",
    "\n",
    "print(\"Words longer than word length:\",final_list)  "
   ]
  }
 ],
 "metadata": {
  "kernelspec": {
   "display_name": "Python 3",
   "language": "python",
   "name": "python3"
  },
  "language_info": {
   "codemirror_mode": {
    "name": "ipython",
    "version": 3
   },
   "file_extension": ".py",
   "mimetype": "text/x-python",
   "name": "python",
   "nbconvert_exporter": "python",
   "pygments_lexer": "ipython3",
   "version": "3.7.6"
  }
 },
 "nbformat": 4,
 "nbformat_minor": 4
}
